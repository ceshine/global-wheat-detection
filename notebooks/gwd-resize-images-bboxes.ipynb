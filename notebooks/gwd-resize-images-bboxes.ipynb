{
 "cells": [
  {
   "cell_type": "markdown",
   "execution_count": null,
   "metadata": {},
   "source": [
    "<a id=\"toc\"></a>\n",
    "# Table of Contents\n",
    "1. [Import libraries](#import_libraries)\n",
    "1. [Configure hyper-parameters](#configure_hyper_parameters)\n",
    "1. [Define helper-functions](#define_helper_functions)\n",
    "1. [Resize images and corresponding bboxes](#resize_images_and_corresponding_bboxes)\n",
    "1. [Save and compress the results](#save_and_compress_the_result)"
   ]
  },
  {
   "cell_type": "markdown",
   "execution_count": null,
   "metadata": {},
   "source": [
    "<a id=\"import_libraries\"></a>\n",
    "# Import libraries\n",
    "[Bach to Table of Contents](#toc)"
   ]
  },
  {
   "cell_type": "code",
   "execution_count": 1,
   "metadata": {
    "_cell_guid": "b1076dfc-b9ad-4769-8c92-a6c4dae69d19",
    "_uuid": "8f2839f25d086af736a60e9eeb907d3b93b6e0e5"
   },
   "outputs": [],
   "source": [
    "import pathlib\n",
    "from pathlib import Path\n",
    "import json\n",
    "\n",
    "import numpy as np\n",
    "import pandas as pd\n",
    "import cv2\n",
    "import albumentations as A\n",
    "from tqdm import tqdm"
   ]
  },
  {
   "cell_type": "markdown",
   "execution_count": null,
   "metadata": {},
   "source": [
    "<a id=\"configure_hyper_parameters\"></a>\n",
    "# Configure hyper-parameters\n",
    "[Bach to Table of Contents](#toc)"
   ]
  },
  {
   "cell_type": "code",
   "execution_count": 2,
   "metadata": {
    "_cell_guid": "79c7e3d0-c299-4dcb-8224-4455121ee9b0",
    "_uuid": "d629ff2d2480ee46fbb7e2d37f6b5fab8052498a"
   },
   "outputs": [],
   "source": [
    "ROOT = Path('/kaggle/input/global-wheat-detection/')\n",
    "TRAIN_DIR = ROOT / 'train'\n",
    "TEST_DIR = ROOT / 'test'\n",
    "\n",
    "WORKING_DIR = Path('/kaggle/working/')\n",
    "\n",
    "IMG_SIZE = 224"
   ]
  },
  {
   "cell_type": "markdown",
   "execution_count": null,
   "metadata": {},
   "source": [
    "<a id=\"define_helper_functions\"></a>\n",
    "# Define helper-functions\n",
    "[Bach to Table of Contents](#toc)"
   ]
  },
  {
   "cell_type": "code",
   "execution_count": 3,
   "metadata": {},
   "outputs": [],
   "source": [
    "def load_dataframe(csv_path: pathlib.PosixPath, image_dir: pathlib.PosixPath) -> pd.DataFrame:\n",
    "    df = pd.read_csv(csv_path)\n",
    "    \n",
    "    # Merge all bboxes of each corresponding image\n",
    "    # Format: [[x1 y1 w1 h1], [x2 y2 w2 h2], [x3 y3 w3 h3], ...]\n",
    "    df.bbox = df.bbox.apply(lambda x: ' '.join(np.array(json.loads(x), dtype=str)))\n",
    "    df.bbox = df.groupby(['image_id']).bbox.transform(lambda x: '|'.join(x))\n",
    "    df.drop_duplicates(inplace=True, ignore_index=True)\n",
    "    df.bbox = df.bbox.apply(lambda x: np.array([item.split(' ') for item in x.split('|')], dtype=np.float32).tolist())\n",
    "    \n",
    "    # Create a path to each image\n",
    "    df['image_path'] = df.image_id.apply(lambda x: str(image_dir / (x + '.jpg')))\n",
    "    \n",
    "    return df\n",
    "\n",
    "def load_image(image_path: str) -> np.array:\n",
    "    image = cv2.imread(image_path, cv2.IMREAD_COLOR)\n",
    "\n",
    "    return image\n",
    "\n",
    "def fix_out_of_range(bbox: list, max_size: int = 1024) -> list:\n",
    "    bbox[2] = min(bbox[2], max_size - bbox[0])\n",
    "    bbox[3] = min(bbox[3], max_size - bbox[1])\n",
    "\n",
    "    return bbox"
   ]
  },
  {
   "cell_type": "code",
   "execution_count": 4,
   "metadata": {},
   "outputs": [],
   "source": [
    "df = load_dataframe(ROOT / 'train.csv', TRAIN_DIR)"
   ]
  },
  {
   "cell_type": "code",
   "execution_count": 5,
   "metadata": {},
   "outputs": [
    {
     "data": {
      "text/html": [
       "<div>\n",
       "<style scoped>\n",
       "    .dataframe tbody tr th:only-of-type {\n",
       "        vertical-align: middle;\n",
       "    }\n",
       "\n",
       "    .dataframe tbody tr th {\n",
       "        vertical-align: top;\n",
       "    }\n",
       "\n",
       "    .dataframe thead th {\n",
       "        text-align: right;\n",
       "    }\n",
       "</style>\n",
       "<table border=\"1\" class=\"dataframe\">\n",
       "  <thead>\n",
       "    <tr style=\"text-align: right;\">\n",
       "      <th></th>\n",
       "      <th>image_id</th>\n",
       "      <th>width</th>\n",
       "      <th>height</th>\n",
       "      <th>bbox</th>\n",
       "      <th>source</th>\n",
       "      <th>image_path</th>\n",
       "    </tr>\n",
       "  </thead>\n",
       "  <tbody>\n",
       "    <tr>\n",
       "      <th>0</th>\n",
       "      <td>b6ab77fd7</td>\n",
       "      <td>1024</td>\n",
       "      <td>1024</td>\n",
       "      <td>[[834.0, 222.0, 56.0, 36.0], [226.0, 548.0, 13...</td>\n",
       "      <td>usask_1</td>\n",
       "      <td>/kaggle/input/global-wheat-detection/train/b6a...</td>\n",
       "    </tr>\n",
       "    <tr>\n",
       "      <th>1</th>\n",
       "      <td>b53afdf5c</td>\n",
       "      <td>1024</td>\n",
       "      <td>1024</td>\n",
       "      <td>[[988.0, 781.0, 36.0, 96.0], [331.0, 863.0, 70...</td>\n",
       "      <td>usask_1</td>\n",
       "      <td>/kaggle/input/global-wheat-detection/train/b53...</td>\n",
       "    </tr>\n",
       "    <tr>\n",
       "      <th>2</th>\n",
       "      <td>7b72ea0fb</td>\n",
       "      <td>1024</td>\n",
       "      <td>1024</td>\n",
       "      <td>[[332.0, 662.0, 113.0, 50.0], [285.0, 755.0, 3...</td>\n",
       "      <td>usask_1</td>\n",
       "      <td>/kaggle/input/global-wheat-detection/train/7b7...</td>\n",
       "    </tr>\n",
       "    <tr>\n",
       "      <th>3</th>\n",
       "      <td>91c9d9c38</td>\n",
       "      <td>1024</td>\n",
       "      <td>1024</td>\n",
       "      <td>[[124.0, 273.0, 59.0, 73.0], [688.0, 939.0, 61...</td>\n",
       "      <td>usask_1</td>\n",
       "      <td>/kaggle/input/global-wheat-detection/train/91c...</td>\n",
       "    </tr>\n",
       "    <tr>\n",
       "      <th>4</th>\n",
       "      <td>41c0123cc</td>\n",
       "      <td>1024</td>\n",
       "      <td>1024</td>\n",
       "      <td>[[0.0, 669.0, 73.0, 111.0], [572.0, 757.0, 110...</td>\n",
       "      <td>usask_1</td>\n",
       "      <td>/kaggle/input/global-wheat-detection/train/41c...</td>\n",
       "    </tr>\n",
       "    <tr>\n",
       "      <th>...</th>\n",
       "      <td>...</td>\n",
       "      <td>...</td>\n",
       "      <td>...</td>\n",
       "      <td>...</td>\n",
       "      <td>...</td>\n",
       "      <td>...</td>\n",
       "    </tr>\n",
       "    <tr>\n",
       "      <th>3368</th>\n",
       "      <td>990c1777d</td>\n",
       "      <td>1024</td>\n",
       "      <td>1024</td>\n",
       "      <td>[[120.0, 97.0, 92.0, 89.0], [491.0, 312.0, 174...</td>\n",
       "      <td>arvalis_2</td>\n",
       "      <td>/kaggle/input/global-wheat-detection/train/990...</td>\n",
       "    </tr>\n",
       "    <tr>\n",
       "      <th>3369</th>\n",
       "      <td>bce2fdc4d</td>\n",
       "      <td>1024</td>\n",
       "      <td>1024</td>\n",
       "      <td>[[59.0, 0.0, 133.0, 42.0], [742.0, 839.0, 115....</td>\n",
       "      <td>arvalis_2</td>\n",
       "      <td>/kaggle/input/global-wheat-detection/train/bce...</td>\n",
       "    </tr>\n",
       "    <tr>\n",
       "      <th>3370</th>\n",
       "      <td>a5c8d5f5c</td>\n",
       "      <td>1024</td>\n",
       "      <td>1024</td>\n",
       "      <td>[[619.0, 194.0, 113.0, 90.0], [53.0, 430.0, 14...</td>\n",
       "      <td>arvalis_2</td>\n",
       "      <td>/kaggle/input/global-wheat-detection/train/a5c...</td>\n",
       "    </tr>\n",
       "    <tr>\n",
       "      <th>3371</th>\n",
       "      <td>e6b5e296d</td>\n",
       "      <td>1024</td>\n",
       "      <td>1024</td>\n",
       "      <td>[[940.0, 462.0, 84.0, 85.0], [532.0, 613.0, 10...</td>\n",
       "      <td>arvalis_2</td>\n",
       "      <td>/kaggle/input/global-wheat-detection/train/e6b...</td>\n",
       "    </tr>\n",
       "    <tr>\n",
       "      <th>3372</th>\n",
       "      <td>5e0747034</td>\n",
       "      <td>1024</td>\n",
       "      <td>1024</td>\n",
       "      <td>[[273.0, 284.0, 113.0, 92.0], [494.0, 125.0, 1...</td>\n",
       "      <td>arvalis_2</td>\n",
       "      <td>/kaggle/input/global-wheat-detection/train/5e0...</td>\n",
       "    </tr>\n",
       "  </tbody>\n",
       "</table>\n",
       "<p>3373 rows × 6 columns</p>\n",
       "</div>"
      ],
      "text/plain": [
       "       image_id  width  height  \\\n",
       "0     b6ab77fd7   1024    1024   \n",
       "1     b53afdf5c   1024    1024   \n",
       "2     7b72ea0fb   1024    1024   \n",
       "3     91c9d9c38   1024    1024   \n",
       "4     41c0123cc   1024    1024   \n",
       "...         ...    ...     ...   \n",
       "3368  990c1777d   1024    1024   \n",
       "3369  bce2fdc4d   1024    1024   \n",
       "3370  a5c8d5f5c   1024    1024   \n",
       "3371  e6b5e296d   1024    1024   \n",
       "3372  5e0747034   1024    1024   \n",
       "\n",
       "                                                   bbox     source  \\\n",
       "0     [[834.0, 222.0, 56.0, 36.0], [226.0, 548.0, 13...    usask_1   \n",
       "1     [[988.0, 781.0, 36.0, 96.0], [331.0, 863.0, 70...    usask_1   \n",
       "2     [[332.0, 662.0, 113.0, 50.0], [285.0, 755.0, 3...    usask_1   \n",
       "3     [[124.0, 273.0, 59.0, 73.0], [688.0, 939.0, 61...    usask_1   \n",
       "4     [[0.0, 669.0, 73.0, 111.0], [572.0, 757.0, 110...    usask_1   \n",
       "...                                                 ...        ...   \n",
       "3368  [[120.0, 97.0, 92.0, 89.0], [491.0, 312.0, 174...  arvalis_2   \n",
       "3369  [[59.0, 0.0, 133.0, 42.0], [742.0, 839.0, 115....  arvalis_2   \n",
       "3370  [[619.0, 194.0, 113.0, 90.0], [53.0, 430.0, 14...  arvalis_2   \n",
       "3371  [[940.0, 462.0, 84.0, 85.0], [532.0, 613.0, 10...  arvalis_2   \n",
       "3372  [[273.0, 284.0, 113.0, 92.0], [494.0, 125.0, 1...  arvalis_2   \n",
       "\n",
       "                                             image_path  \n",
       "0     /kaggle/input/global-wheat-detection/train/b6a...  \n",
       "1     /kaggle/input/global-wheat-detection/train/b53...  \n",
       "2     /kaggle/input/global-wheat-detection/train/7b7...  \n",
       "3     /kaggle/input/global-wheat-detection/train/91c...  \n",
       "4     /kaggle/input/global-wheat-detection/train/41c...  \n",
       "...                                                 ...  \n",
       "3368  /kaggle/input/global-wheat-detection/train/990...  \n",
       "3369  /kaggle/input/global-wheat-detection/train/bce...  \n",
       "3370  /kaggle/input/global-wheat-detection/train/a5c...  \n",
       "3371  /kaggle/input/global-wheat-detection/train/e6b...  \n",
       "3372  /kaggle/input/global-wheat-detection/train/5e0...  \n",
       "\n",
       "[3373 rows x 6 columns]"
      ]
     },
     "execution_count": 5,
     "metadata": {},
     "output_type": "execute_result"
    }
   ],
   "source": [
    "df"
   ]
  },
  {
   "cell_type": "markdown",
   "execution_count": null,
   "metadata": {},
   "source": [
    "<a id=\"resize_images_and_corresponding_bboxes\"></a>\n",
    "# Resize images and corresponding bboxes\n",
    "[Bach to Table of Contents](#toc)"
   ]
  },
  {
   "cell_type": "code",
   "execution_count": 6,
   "metadata": {},
   "outputs": [],
   "source": [
    "mkdir train"
   ]
  },
  {
   "cell_type": "code",
   "execution_count": 7,
   "metadata": {},
   "outputs": [
    {
     "name": "stderr",
     "output_type": "stream",
     "text": [
      "100%|██████████| 3373/3373 [01:31<00:00, 36.98it/s]\n"
     ]
    }
   ],
   "source": [
    "transform = A.Compose(\n",
    "    [\n",
    "        A.Resize(height=IMG_SIZE, width=IMG_SIZE, p=1),\n",
    "    ], \n",
    "    p=1.0, \n",
    "    bbox_params=A.BboxParams(\n",
    "        format='coco',\n",
    "        min_area=0, \n",
    "        min_visibility=0,\n",
    "        label_fields=['labels']\n",
    "    )\n",
    ")\n",
    "\n",
    "list_of_image_ids = []\n",
    "list_of_bboxes = []\n",
    "list_of_sources = []\n",
    "\n",
    "for idx, row in tqdm(df.iterrows(), total=df.shape[0]):\n",
    "    image = load_image(row.image_path)\n",
    "    bboxes = row.bbox\n",
    "\n",
    "    # Fix \"out-of-range\" bboxes\n",
    "    bboxes = [fix_out_of_range(bbox) for bbox in bboxes]\n",
    "    \n",
    "    result = transform(image=image, bboxes=bboxes, labels=np.ones(len(bboxes)))\n",
    "    new_image = result['image']\n",
    "    new_bboxes = np.array(result['bboxes']).tolist()\n",
    "    \n",
    "    # Save new image\n",
    "    cv2.imwrite(str(WORKING_DIR / 'train' / (row.image_id + '.jpg')), new_image)\n",
    "\n",
    "    for new_bbox in new_bboxes:\n",
    "        list_of_image_ids.append(row.image_id)\n",
    "        list_of_bboxes.append(new_bbox)\n",
    "        list_of_sources.append(row.source)"
   ]
  },
  {
   "cell_type": "code",
   "execution_count": 8,
   "metadata": {},
   "outputs": [],
   "source": [
    "new_data_dict = {\n",
    "    'image_id': list_of_image_ids,\n",
    "    'width': [IMG_SIZE] * len(list_of_image_ids),\n",
    "    'height': [IMG_SIZE] * len(list_of_image_ids),\n",
    "    'bbox': list_of_bboxes,\n",
    "    'source': list_of_sources\n",
    "}"
   ]
  },
  {
   "cell_type": "code",
   "execution_count": 9,
   "metadata": {},
   "outputs": [],
   "source": [
    "new_df = pd.DataFrame(new_data_dict)"
   ]
  },
  {
   "cell_type": "markdown",
   "execution_count": null,
   "metadata": {},
   "source": [
    "<a id=\"save_and_compress_the_result\"></a>\n",
    "# Save and compress the results\n",
    "[Bach to Table of Contents](#toc)"
   ]
  },
  {
   "cell_type": "code",
   "execution_count": 10,
   "metadata": {},
   "outputs": [],
   "source": [
    "new_df.to_csv('train.csv', index=False)"
   ]
  },
  {
   "cell_type": "code",
   "execution_count": 11,
   "metadata": {},
   "outputs": [],
   "source": [
    "!cp $ROOT/sample_submission.csv ./\n",
    "!cp -r $ROOT/test ./"
   ]
  },
  {
   "cell_type": "code",
   "execution_count": 12,
   "metadata": {},
   "outputs": [],
   "source": [
    "!zip -rm -qq global-wheat-detection.zip train test train.csv sample_submission.csv"
   ]
  }
 ],
 "metadata": {
  "kernelspec": {
   "display_name": "Python 3",
   "language": "python",
   "name": "python3"
  },
  "language_info": {
   "codemirror_mode": {
    "name": "ipython",
    "version": 3
   },
   "file_extension": ".py",
   "mimetype": "text/x-python",
   "name": "python",
   "nbconvert_exporter": "python",
   "pygments_lexer": "ipython3",
   "version": "3.7.6"
  }
 },
 "nbformat": 4,
 "nbformat_minor": 4
}
